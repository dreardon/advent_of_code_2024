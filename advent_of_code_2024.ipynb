{
  "cells": [
    {
      "cell_type": "markdown",
      "metadata": {
        "id": "view-in-github",
        "colab_type": "text"
      },
      "source": [
        "<a href=\"https://colab.research.google.com/github/dreardon/advent_of_code_2024/blob/main/advent_of_code_2024.ipynb\" target=\"_parent\"><img src=\"https://colab.research.google.com/assets/colab-badge.svg\" alt=\"Open In Colab\"/></a>"
      ]
    },
    {
      "cell_type": "markdown",
      "metadata": {
        "id": "5PYpUtCguea6"
      },
      "source": [
        "## Day 1"
      ]
    },
    {
      "cell_type": "code",
      "execution_count": null,
      "metadata": {
        "id": "-nN9Gskms1Gp"
      },
      "outputs": [],
      "source": [
        "def count(l1,l2):\n",
        "    distance = 0\n",
        "    for x in range(0,len(l1)):\n",
        "        distance += abs(int(l1[x]) - int(l2[x]))\n",
        "    return distance\n",
        "\n",
        "with open(\"/content/drive/MyDrive/development/advent_of_code/2024/input/1/input.txt\", \"r\") as file:\n",
        "    l1 = []\n",
        "    l2 = []\n",
        "    for line in file:\n",
        "        x, y = line.split()\n",
        "        l1.append(x)\n",
        "        l2.append(y)\n",
        "    l1.sort()\n",
        "    l2.sort()\n",
        "    distance = count(l1,l2)\n",
        "    print(distance)\n"
      ]
    },
    {
      "cell_type": "code",
      "execution_count": null,
      "metadata": {
        "id": "W9gjCeGXuxMB"
      },
      "outputs": [],
      "source": [
        "\n",
        "def count(l1,l2):\n",
        "    similarity = 0\n",
        "    for x in range(0,len(l1)):\n",
        "        similarity += int(l1[x]) * int(l2.count(l1[x]))\n",
        "    return similarity\n",
        "\n",
        "with open(\"/content/drive/MyDrive/development/advent_of_code/2024/input/1/input.txt\", \"r\") as file:\n",
        "    l1 = []\n",
        "    l2 = []\n",
        "    for line in file:\n",
        "        x, y = line.split()\n",
        "        l1.append(x)\n",
        "        l2.append(y)\n",
        "    l1.sort()\n",
        "    l2.sort()\n",
        "    similarity = count(l1,l2)\n",
        "    print(similarity)\n"
      ]
    },
    {
      "cell_type": "markdown",
      "metadata": {
        "id": "RSkkmrKGugU6"
      },
      "source": [
        "## Day 2"
      ]
    },
    {
      "cell_type": "code",
      "execution_count": null,
      "metadata": {
        "id": "3IBRst6luf0Z"
      },
      "outputs": [],
      "source": [
        "\n",
        "def safe_check(dir,report):\n",
        "    for x in range(0,len(report)-1):\n",
        "        #print(dir,report[x],report[x+1])\n",
        "        if report[x] == report[x+1]:\n",
        "            #print('equal, return false', report)\n",
        "            return False\n",
        "        if report[x] < report[x+1]:\n",
        "            if dir == 'dec':\n",
        "                #print('Started to increase',report)\n",
        "                return False\n",
        "            else:\n",
        "                dir = 'inc'\n",
        "        if report[x] > report[x+1]:\n",
        "            if dir == 'inc':\n",
        "                #print('Started to decrease',report)\n",
        "                return False\n",
        "            else:\n",
        "                dir = 'dec'\n",
        "        if abs(report[x]-report[x+1]) > 3:\n",
        "            #print('greater than 3, return false',report)\n",
        "            return False\n",
        "    #print(report)\n",
        "    return True\n",
        "    #safe_check(dir,report.pop(0))\n",
        "\n",
        "with open(\"/content/drive/MyDrive/development/advent_of_code/2024/input/2/input.txt\", \"r\") as file:\n",
        "    safe = 0\n",
        "    dir = ''\n",
        "    for line in file:\n",
        "        report = [int(x) for x in line.split()]\n",
        "        if safe_check(dir,report):\n",
        "            safe += 1\n",
        "    print(safe)\n",
        "    #282"
      ]
    },
    {
      "cell_type": "code",
      "execution_count": null,
      "metadata": {
        "id": "xRzkK4vbu-9a"
      },
      "outputs": [],
      "source": [
        "\n",
        "def safe_check(dir,report,tolerated=0):\n",
        "    print('New Safe Check', dir, report, tolerated)\n",
        "    for x in range(0,len(report)-2):\n",
        "        print('Init loop',dir,x,report)\n",
        "        if report[x] == report[x+1]:\n",
        "            print('equal, return false', report)\n",
        "            if tolerated==0:\n",
        "                print('In tolerated',report)\n",
        "                report.pop(x+1)\n",
        "                safe_check(dir,report,1)\n",
        "            else:\n",
        "                return False\n",
        "        if report[x] < report[x+1]:\n",
        "            if dir == 'dec':\n",
        "                print('Started to increase',report)\n",
        "                if tolerated==0:\n",
        "                    print('In tolerated',report)\n",
        "                    report.pop(x+1)\n",
        "                    safe_check(dir,report,1)\n",
        "                else:\n",
        "                    return False\n",
        "            else:\n",
        "                dir = 'inc'\n",
        "        if report[x] > report[x+1]:\n",
        "            if dir == 'inc':\n",
        "                print('Started to decrease',report)\n",
        "                if tolerated==0:\n",
        "                    print('In tolerated',report)\n",
        "                    report.pop(x+1)\n",
        "                    safe_check(dir,report,1)\n",
        "                else:\n",
        "                    return False\n",
        "            else:\n",
        "                dir = 'dec'\n",
        "        if abs(report[x]-report[x+1]) > 3:\n",
        "            print('greater than 3, return false',report)\n",
        "            if tolerated==0:\n",
        "                print('In tolerated',report)\n",
        "                report.pop(x+1)\n",
        "                safe_check(dir,report,1)\n",
        "            else:\n",
        "                return False\n",
        "    #print(report)\n",
        "    return True\n",
        "\n",
        "\n",
        "with open(\"/content/drive/MyDrive/development/advent_of_code/2024/input/2/input.txt\", \"r\") as file:\n",
        "    safe = 0\n",
        "    dir = ''\n",
        "    for line in file:\n",
        "        report = [int(x) for x in line.split()]\n",
        "        if safe_check(dir,report):\n",
        "            print('Report', report, 'safe')\n",
        "            safe += 1\n",
        "    print(safe)\n",
        "    #282"
      ]
    },
    {
      "cell_type": "markdown",
      "metadata": {
        "id": "uGLmxOM3ui_i"
      },
      "source": [
        "## Day 3"
      ]
    },
    {
      "cell_type": "code",
      "execution_count": 187,
      "metadata": {
        "id": "nXhEWwcQuh3e",
        "colab": {
          "base_uri": "https://localhost:8080/"
        },
        "outputId": "8958f4d0-f79d-4914-e9c2-a69d273d456c"
      },
      "outputs": [
        {
          "output_type": "stream",
          "name": "stdout",
          "text": [
            "178538786\n"
          ]
        }
      ],
      "source": [
        "import re\n",
        "\n",
        "total = 0\n",
        "with open(\"/content/drive/MyDrive/development/advent_of_code/2024/input/3/input.txt\", \"r\") as file:\n",
        "    jumble = file.read().rstrip()\n",
        "    pattern = '(mul\\(\\d{1,3}\\,\\d{1,3}\\))'\n",
        "    a = re.findall(pattern, jumble)\n",
        "    for x in a:\n",
        "        int_pattern = '\\d{1,3}'\n",
        "        nums = re.findall(int_pattern,x)\n",
        "        total += int(nums[0]) * int(nums[1])\n",
        "    print(total)\n",
        "\n"
      ]
    },
    {
      "cell_type": "code",
      "execution_count": null,
      "metadata": {
        "id": "y8jwb7ZhvFik"
      },
      "outputs": [],
      "source": [
        "import re\n",
        "\n",
        "total = 0\n",
        "int_pattern = '\\d{1,3}'\n",
        "parse_expression = 'mul\\(\\d{1,3},\\d{1,3}\\)|do\\(\\)|don\\'t\\(\\)'\n",
        "in_filter = True\n",
        "with open(\"/content/drive/MyDrive/development/advent_of_code/2024/input/3/input.txt\", \"r\") as file:\n",
        "    jumble = file.read().rstrip()\n",
        "    response = re.findall(parse_expression,jumble)\n",
        "    for each in response:\n",
        "        if each == 'do()':\n",
        "            in_filter = True\n",
        "            continue\n",
        "        if each == 'don\\'t()':\n",
        "            in_filter = False\n",
        "            continue\n",
        "        if in_filter == '' or in_filter is True:\n",
        "            nums = re.findall(int_pattern,each)\n",
        "            total += int(nums[0]) * int(nums[1])\n",
        "print(total)"
      ]
    },
    {
      "cell_type": "markdown",
      "metadata": {
        "id": "csXh7auTukZ6"
      },
      "source": [
        "## Day 4"
      ]
    },
    {
      "cell_type": "code",
      "execution_count": 13,
      "metadata": {
        "colab": {
          "base_uri": "https://localhost:8080/"
        },
        "id": "S0MKGhO4uj-C",
        "outputId": "3f6a94f5-2201-4e79-f451-828720877d82"
      },
      "outputs": [
        {
          "output_type": "stream",
          "name": "stdout",
          "text": [
            "Count 2662\n"
          ]
        }
      ],
      "source": [
        "import re\n",
        "\n",
        "\n",
        "def check_surrounding(puzzle,letter,x,y):\n",
        "  paths = []\n",
        "  for check_row in range(-1,2):\n",
        "    for check_column in range(-1,2):\n",
        "      try:\n",
        "        if (x+check_row) >= 0 and (y+check_column) >= 0:\n",
        "          if puzzle[x+check_row][y+check_column]==letter:\n",
        "            paths.append((check_row,check_column))\n",
        "      except:\n",
        "        continue\n",
        "  return paths\n",
        "\n",
        "with open(\"/content/drive/MyDrive/development/advent_of_code/2024/input/4/input.txt\", \"r\") as file:\n",
        "    count = 0\n",
        "    puzzle = []\n",
        "    for line in file:\n",
        "      puzzle.append(list(line))\n",
        "    find = 'XMAS'\n",
        "    rows = len(puzzle)\n",
        "    columns = len(puzzle[0])-1\n",
        "    for x in range(rows):\n",
        "      for y in range(columns):\n",
        "        if puzzle[x][y] == list(find)[0]:\n",
        "          possible_paths = check_surrounding(puzzle,list(find)[1],x,y)\n",
        "          for a in possible_paths:\n",
        "            for idx,z in enumerate(find[2:]):\n",
        "              try:\n",
        "                if (x+(a[0]*(idx+2))) >= 0 and (y+(a[1]*(idx+2))) >= 0:\n",
        "                  if puzzle[x+(a[0]*(idx+2))][y+(a[1]*(idx+2))] == z:\n",
        "                    if len(find)-3 == idx:\n",
        "                      count += 1\n",
        "                  else:\n",
        "                    break\n",
        "              except:\n",
        "                continue\n",
        "    print('Count',count)\n",
        "\n",
        "\n",
        "\n",
        "\n",
        "\n"
      ]
    },
    {
      "cell_type": "code",
      "execution_count": 12,
      "metadata": {
        "colab": {
          "base_uri": "https://localhost:8080/"
        },
        "id": "lSbSAQ2Muk-p",
        "outputId": "a4899d3f-5f4d-423a-a3b4-f06fe9b8090c"
      },
      "outputs": [
        {
          "output_type": "stream",
          "name": "stdout",
          "text": [
            "Count 2034\n"
          ]
        }
      ],
      "source": [
        "import re\n",
        "\n",
        "\n",
        "def check_surrounding(puzzle,letter,x,y):\n",
        "  paths = []\n",
        "  for check_row in range(-1,2):\n",
        "    for check_column in range(-1,2):\n",
        "      try:\n",
        "        if (x+check_row) >= 0 and (y+check_column) >= 0:\n",
        "          if puzzle[x+check_row][y+check_column]==letter:\n",
        "            paths.append((check_row,check_column))\n",
        "      except:\n",
        "        continue\n",
        "  return paths\n",
        "\n",
        "with open(\"/content/drive/MyDrive/development/advent_of_code/2024/input/4/input.txt\", \"r\") as file:\n",
        "    count = 0\n",
        "    paths = []\n",
        "    puzzle = []\n",
        "    for line in file:\n",
        "      puzzle.append(list(line))\n",
        "    find = 'MAS'\n",
        "    rows = len(puzzle)\n",
        "    columns = len(puzzle[0])-1\n",
        "    for x in range(rows):\n",
        "      for y in range(columns):\n",
        "        if puzzle[x][y] == list(find)[0]:\n",
        "          possible_paths = check_surrounding(puzzle,list(find)[1],x,y)\n",
        "          for a in possible_paths:\n",
        "            path = [(x,y)]\n",
        "            for idx,z in enumerate(find[2:]):\n",
        "              try:\n",
        "                path.append((x+(a[0]),y+(a[1])))\n",
        "                if (x+(a[0]*(idx+2))) >= 0 and (y+(a[1]*(idx+2))) >= 0:\n",
        "                  if puzzle[x+(a[0]*(idx+2))][y+(a[1]*(idx+2))] == z:\n",
        "                    path.append((x+(a[0]*(idx+2)),y+(a[1]*(idx+2))))\n",
        "                    if len(find)-3 == idx:\n",
        "                      paths.append(path)\n",
        "              except:\n",
        "                continue\n",
        "    final_path = []\n",
        "    final_list = []\n",
        "    for idx,y in enumerate(paths):\n",
        "      if (y[0][1]) != (y[1][1]) and (y[0][0]) != (y[1][0]):\n",
        "        final_path.append(y)\n",
        "    mids = [x[1] for x in final_path]\n",
        "    unique_mids = set(mids)\n",
        "    for idx,y in enumerate(unique_mids):\n",
        "        if mids.count(y) > 1:\n",
        "          final_list.append(y)\n",
        "    sorted_set = sorted(final_list, key=lambda x: (x[0], x[1]))\n",
        "    print('Count', len(sorted_set))"
      ]
    },
    {
      "cell_type": "code",
      "source": [],
      "metadata": {
        "id": "aeJNaDIwT0Jd"
      },
      "execution_count": null,
      "outputs": []
    }
  ],
  "metadata": {
    "colab": {
      "provenance": [],
      "mount_file_id": "1MTGa8Ep8kSE_ZNcK_l0I23pOzXPykjPI",
      "authorship_tag": "ABX9TyPdRZ8UV7MxeQnECATUd9zf",
      "include_colab_link": true
    },
    "kernelspec": {
      "display_name": "Python 3",
      "name": "python3"
    },
    "language_info": {
      "name": "python"
    }
  },
  "nbformat": 4,
  "nbformat_minor": 0
}