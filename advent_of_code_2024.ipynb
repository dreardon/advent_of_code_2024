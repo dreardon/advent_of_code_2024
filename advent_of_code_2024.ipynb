{
  "nbformat": 4,
  "nbformat_minor": 0,
  "metadata": {
    "colab": {
      "provenance": [],
      "mount_file_id": "1MTGa8Ep8kSE_ZNcK_l0I23pOzXPykjPI",
      "authorship_tag": "ABX9TyMMMMJazfkWOgdxAsoU6wWk",
      "include_colab_link": true
    },
    "kernelspec": {
      "name": "python3",
      "display_name": "Python 3"
    },
    "language_info": {
      "name": "python"
    }
  },
  "cells": [
    {
      "cell_type": "markdown",
      "metadata": {
        "id": "view-in-github",
        "colab_type": "text"
      },
      "source": [
        "<a href=\"https://colab.research.google.com/github/dreardon/advent_of_code_2024/blob/main/advent_of_code_2024.ipynb\" target=\"_parent\"><img src=\"https://colab.research.google.com/assets/colab-badge.svg\" alt=\"Open In Colab\"/></a>"
      ]
    },
    {
      "cell_type": "markdown",
      "source": [
        "## Day 1"
      ],
      "metadata": {
        "id": "5PYpUtCguea6"
      }
    },
    {
      "cell_type": "code",
      "execution_count": null,
      "metadata": {
        "id": "-nN9Gskms1Gp"
      },
      "outputs": [],
      "source": [
        "def count(l1,l2):\n",
        "    distance = 0\n",
        "    for x in range(0,len(l1)):\n",
        "        distance += abs(int(l1[x]) - int(l2[x]))\n",
        "    return distance\n",
        "\n",
        "with open(\"/content/drive/MyDrive/development/advent_of_code/2024/input/1/input.txt\", \"r\") as file:\n",
        "    l1 = []\n",
        "    l2 = []\n",
        "    for line in file:\n",
        "        x, y = line.split()\n",
        "        l1.append(x)\n",
        "        l2.append(y)\n",
        "    l1.sort()\n",
        "    l2.sort()\n",
        "    distance = count(l1,l2)\n",
        "    print(distance)\n"
      ]
    },
    {
      "cell_type": "code",
      "source": [
        "\n",
        "def count(l1,l2):\n",
        "    similarity = 0\n",
        "    for x in range(0,len(l1)):\n",
        "        similarity += int(l1[x]) * int(l2.count(l1[x]))\n",
        "    return similarity\n",
        "\n",
        "with open(\"/content/drive/MyDrive/development/advent_of_code/2024/input/1/input.txt\", \"r\") as file:\n",
        "    l1 = []\n",
        "    l2 = []\n",
        "    for line in file:\n",
        "        x, y = line.split()\n",
        "        l1.append(x)\n",
        "        l2.append(y)\n",
        "    l1.sort()\n",
        "    l2.sort()\n",
        "    similarity = count(l1,l2)\n",
        "    print(similarity)\n"
      ],
      "metadata": {
        "id": "W9gjCeGXuxMB"
      },
      "execution_count": null,
      "outputs": []
    },
    {
      "cell_type": "markdown",
      "source": [
        "## Day 2"
      ],
      "metadata": {
        "id": "RSkkmrKGugU6"
      }
    },
    {
      "cell_type": "code",
      "source": [
        "\n",
        "def safe_check(dir,report):\n",
        "    for x in range(0,len(report)-1):\n",
        "        #print(dir,report[x],report[x+1])\n",
        "        if report[x] == report[x+1]:\n",
        "            #print('equal, return false', report)\n",
        "            return False\n",
        "        if report[x] < report[x+1]:\n",
        "            if dir == 'dec':\n",
        "                #print('Started to increase',report)\n",
        "                return False\n",
        "            else:\n",
        "                dir = 'inc'\n",
        "        if report[x] > report[x+1]:\n",
        "            if dir == 'inc':\n",
        "                #print('Started to decrease',report)\n",
        "                return False\n",
        "            else:\n",
        "                dir = 'dec'\n",
        "        if abs(report[x]-report[x+1]) > 3:\n",
        "            #print('greater than 3, return false',report)\n",
        "            return False\n",
        "    #print(report)\n",
        "    return True\n",
        "    #safe_check(dir,report.pop(0))\n",
        "\n",
        "with open(\"/content/drive/MyDrive/development/advent_of_code/2024/input/2/input.txt\", \"r\") as file:\n",
        "    safe = 0\n",
        "    dir = ''\n",
        "    for line in file:\n",
        "        report = [int(x) for x in line.split()]\n",
        "        if safe_check(dir,report):\n",
        "            safe += 1\n",
        "    print(safe)\n",
        "    #282"
      ],
      "metadata": {
        "id": "3IBRst6luf0Z"
      },
      "execution_count": null,
      "outputs": []
    },
    {
      "cell_type": "code",
      "source": [
        "\n",
        "def safe_check(dir,report,tolerated=0):\n",
        "    print('New Safe Check', dir, report, tolerated)\n",
        "    for x in range(0,len(report)-2):\n",
        "        print('Init loop',dir,x,report)\n",
        "        if report[x] == report[x+1]:\n",
        "            print('equal, return false', report)\n",
        "            if tolerated==0:\n",
        "                print('In tolerated',report)\n",
        "                report.pop(x+1)\n",
        "                safe_check(dir,report,1)\n",
        "            else:\n",
        "                return False\n",
        "        if report[x] < report[x+1]:\n",
        "            if dir == 'dec':\n",
        "                print('Started to increase',report)\n",
        "                if tolerated==0:\n",
        "                    print('In tolerated',report)\n",
        "                    report.pop(x+1)\n",
        "                    safe_check(dir,report,1)\n",
        "                else:\n",
        "                    return False\n",
        "            else:\n",
        "                dir = 'inc'\n",
        "        if report[x] > report[x+1]:\n",
        "            if dir == 'inc':\n",
        "                print('Started to decrease',report)\n",
        "                if tolerated==0:\n",
        "                    print('In tolerated',report)\n",
        "                    report.pop(x+1)\n",
        "                    safe_check(dir,report,1)\n",
        "                else:\n",
        "                    return False\n",
        "            else:\n",
        "                dir = 'dec'\n",
        "        if abs(report[x]-report[x+1]) > 3:\n",
        "            print('greater than 3, return false',report)\n",
        "            if tolerated==0:\n",
        "                print('In tolerated',report)\n",
        "                report.pop(x+1)\n",
        "                safe_check(dir,report,1)\n",
        "            else:\n",
        "                return False\n",
        "    #print(report)\n",
        "    return True\n",
        "\n",
        "\n",
        "with open(\"/content/drive/MyDrive/development/advent_of_code/2024/input/2/input.txt\", \"r\") as file:\n",
        "    safe = 0\n",
        "    dir = ''\n",
        "    for line in file:\n",
        "        report = [int(x) for x in line.split()]\n",
        "        if safe_check(dir,report):\n",
        "            print('Report', report, 'safe')\n",
        "            safe += 1\n",
        "    print(safe)\n",
        "    #282"
      ],
      "metadata": {
        "id": "xRzkK4vbu-9a"
      },
      "execution_count": null,
      "outputs": []
    },
    {
      "cell_type": "markdown",
      "source": [
        "## Day 3"
      ],
      "metadata": {
        "id": "uGLmxOM3ui_i"
      }
    },
    {
      "cell_type": "code",
      "source": [
        "import re\n",
        "\n",
        "total = 0\n",
        "with open(\"/content/drive/MyDrive/development/advent_of_code/2024/input/3/input.txt\", \"r\") as file:\n",
        "    jumble = file.read().rstrip()\n",
        "    pattern = '(mul\\(\\d{1,3}\\,\\d{1,3}\\))'\n",
        "    a = re.findall(pattern, jumble)\n",
        "    for x in a:\n",
        "        int_pattern = '\\d{1,3}'\n",
        "        nums = re.findall(int_pattern,x)\n",
        "        total += int(nums[0]) * int(nums[1])\n",
        "    print(total)\n",
        "\n"
      ],
      "metadata": {
        "id": "nXhEWwcQuh3e"
      },
      "execution_count": null,
      "outputs": []
    },
    {
      "cell_type": "code",
      "source": [
        "import re\n",
        "\n",
        "total = 0\n",
        "int_pattern = '\\d{1,3}'\n",
        "parse_expression = 'mul\\(\\d{1,3},\\d{1,3}\\)|do\\(\\)|don\\'t\\(\\)'\n",
        "in_filter = True\n",
        "with open(\"/content/drive/MyDrive/development/advent_of_code/2024/input/3/input.txt\", \"r\") as file:\n",
        "    jumble = file.read().rstrip()\n",
        "    response = re.findall(parse_expression,jumble)\n",
        "    for each in response:\n",
        "        if each == 'do()':\n",
        "            in_filter = True\n",
        "            continue\n",
        "        if each == 'don\\'t()':\n",
        "            in_filter = False\n",
        "            continue\n",
        "        if in_filter == '' or in_filter is True:\n",
        "            nums = re.findall(int_pattern,each)\n",
        "            total += int(nums[0]) * int(nums[1])\n",
        "print(total)"
      ],
      "metadata": {
        "id": "y8jwb7ZhvFik"
      },
      "execution_count": null,
      "outputs": []
    },
    {
      "cell_type": "markdown",
      "source": [
        "## Day 4"
      ],
      "metadata": {
        "id": "csXh7auTukZ6"
      }
    },
    {
      "cell_type": "code",
      "source": [],
      "metadata": {
        "id": "S0MKGhO4uj-C"
      },
      "execution_count": null,
      "outputs": []
    },
    {
      "cell_type": "code",
      "source": [],
      "metadata": {
        "id": "lSbSAQ2Muk-p"
      },
      "execution_count": null,
      "outputs": []
    }
  ]
}